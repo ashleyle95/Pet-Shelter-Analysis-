{
 "cells": [
  {
   "cell_type": "markdown",
   "id": "214c0f1b",
   "metadata": {},
   "source": [
    "# Explain Dataset\n",
    "\n",
    "#### Acc_Intakes.csv \n",
    "- Age Upon Intake: The age of the animal when it was brought to the facility\n",
    "- Animal ID: A unique identifier for each animal.\n",
    "- Animal Type: The species of the animal. In both examples, this is 'Dog'.\n",
    "- Breed: The breed of the animal.\n",
    "- Color: The color of the animal's coat.\n",
    "- Datetime: The date and time when the animal was intake.\n",
    "- Datetime2: This seems to be a repeat of the intake date and time\n",
    "- Found Location: The location where the animal was found before being brought to the facility.\n",
    "- Intake Condition: The health or physical condition of the animal at intake.\n",
    "- Intake Type: The circumstances under which the animal was brought to the facility.\n",
    "- Name: The name given to the animal. \n",
    "- Sex Upon Intake: The gender and reproductive status of the animal when it arrived.\n",
    "\n",
    "#### Acc_Outcomes.csv\n",
    "- Age Upon Outcome: This is the age of the animal at the time they left the facility\n",
    "- Animal ID: A unique identifier assigned to each animal.\n",
    "- Animal Type: The species of the animal.\n",
    "- Breed: The breed of the animal.\n",
    "- Color: The color of the animal's coat.\n",
    "- Date of Birth: The birth date of the animal. \n",
    "- Datetime: The date and time when the animal left the facility.\n",
    "- Monthyear: This seems to be a repeat of the outcome date and time\n",
    "- Name: The name of the animal\n",
    "- Outcome Subtype: Additional details about the outcome.\n",
    "- Outcome Type: The general category of the outcome.\n",
    "- Sex Upon Outcome: The gender and reproductive status of the animal when it left the facility. "
   ]
  },
  {
   "cell_type": "markdown",
   "id": "39ecbdd7",
   "metadata": {},
   "source": [
    "# Clearn data before analyze.\n",
    "#### Import pandas and numpy library"
   ]
  },
  {
   "cell_type": "code",
   "execution_count": 2,
   "id": "884373c1",
   "metadata": {},
   "outputs": [],
   "source": [
    "import pandas as pd\n",
    "import numpy as np"
   ]
  },
  {
   "cell_type": "markdown",
   "id": "7ace7b6c",
   "metadata": {},
   "source": [
    "#### Read file aac_intakes.csv and save as 'aac_intakes' dataframe"
   ]
  },
  {
   "cell_type": "code",
   "execution_count": 3,
   "id": "8e120912",
   "metadata": {},
   "outputs": [],
   "source": [
    "input_data=pd.read_csv('aac_intakes.csv')\n",
    "output_data=pd.read_csv('aac_outcomes.csv')"
   ]
  },
  {
   "cell_type": "markdown",
   "id": "b0194cfc",
   "metadata": {},
   "source": [
    "Let's have a look at dataframe and change data type as needed"
   ]
  },
  {
   "cell_type": "code",
   "execution_count": 4,
   "id": "14831b85",
   "metadata": {},
   "outputs": [
    {
     "name": "stdout",
     "output_type": "stream",
     "text": [
      "<class 'pandas.core.frame.DataFrame'>\n",
      "RangeIndex: 80187 entries, 0 to 80186\n",
      "Data columns (total 12 columns):\n",
      " #   Column            Non-Null Count  Dtype \n",
      "---  ------            --------------  ----- \n",
      " 0   age_upon_intake   80187 non-null  object\n",
      " 1   animal_id         80187 non-null  object\n",
      " 2   animal_type       80187 non-null  object\n",
      " 3   breed             80187 non-null  object\n",
      " 4   color             80187 non-null  object\n",
      " 5   datetime          80187 non-null  object\n",
      " 6   datetime2         80187 non-null  object\n",
      " 7   found_location    80187 non-null  object\n",
      " 8   intake_condition  80187 non-null  object\n",
      " 9   intake_type       80187 non-null  object\n",
      " 10  name              55603 non-null  object\n",
      " 11  sex_upon_intake   80186 non-null  object\n",
      "dtypes: object(12)\n",
      "memory usage: 7.3+ MB\n"
     ]
    }
   ],
   "source": [
    "input_data.info()"
   ]
  },
  {
   "cell_type": "markdown",
   "id": "76d8e31e",
   "metadata": {},
   "source": [
    "After that, data type should bechanged properly for subsequent analysis."
   ]
  },
  {
   "cell_type": "code",
   "execution_count": 5,
   "id": "57e57930",
   "metadata": {},
   "outputs": [
    {
     "name": "stdout",
     "output_type": "stream",
     "text": [
      "<class 'pandas.core.frame.DataFrame'>\n",
      "RangeIndex: 80187 entries, 0 to 80186\n",
      "Data columns (total 12 columns):\n",
      " #   Column            Non-Null Count  Dtype         \n",
      "---  ------            --------------  -----         \n",
      " 0   age_upon_intake   80187 non-null  object        \n",
      " 1   animal_id         80187 non-null  object        \n",
      " 2   animal_type       80187 non-null  object        \n",
      " 3   breed             80187 non-null  object        \n",
      " 4   color             80187 non-null  object        \n",
      " 5   datetime          80187 non-null  datetime64[ns]\n",
      " 6   datetime2         80187 non-null  datetime64[ns]\n",
      " 7   found_location    80187 non-null  object        \n",
      " 8   intake_condition  80187 non-null  object        \n",
      " 9   intake_type       80187 non-null  object        \n",
      " 10  name              55603 non-null  object        \n",
      " 11  sex_upon_intake   80186 non-null  object        \n",
      "dtypes: datetime64[ns](2), object(10)\n",
      "memory usage: 7.3+ MB\n"
     ]
    },
    {
     "data": {
      "text/html": [
       "<div>\n",
       "<style scoped>\n",
       "    .dataframe tbody tr th:only-of-type {\n",
       "        vertical-align: middle;\n",
       "    }\n",
       "\n",
       "    .dataframe tbody tr th {\n",
       "        vertical-align: top;\n",
       "    }\n",
       "\n",
       "    .dataframe thead th {\n",
       "        text-align: right;\n",
       "    }\n",
       "</style>\n",
       "<table border=\"1\" class=\"dataframe\">\n",
       "  <thead>\n",
       "    <tr style=\"text-align: right;\">\n",
       "      <th></th>\n",
       "      <th>age_upon_intake</th>\n",
       "      <th>animal_id</th>\n",
       "      <th>animal_type</th>\n",
       "      <th>breed</th>\n",
       "      <th>color</th>\n",
       "      <th>datetime</th>\n",
       "      <th>datetime2</th>\n",
       "      <th>found_location</th>\n",
       "      <th>intake_condition</th>\n",
       "      <th>intake_type</th>\n",
       "      <th>name</th>\n",
       "      <th>sex_upon_intake</th>\n",
       "    </tr>\n",
       "  </thead>\n",
       "  <tbody>\n",
       "    <tr>\n",
       "      <th>42753</th>\n",
       "      <td>7 years</td>\n",
       "      <td>A521520</td>\n",
       "      <td>Dog</td>\n",
       "      <td>Border Terrier/Border Collie</td>\n",
       "      <td>White/Tan</td>\n",
       "      <td>2013-10-01 07:51:00</td>\n",
       "      <td>2013-10-01 07:51:00</td>\n",
       "      <td>Norht Ec in Austin (TX)</td>\n",
       "      <td>Normal</td>\n",
       "      <td>Stray</td>\n",
       "      <td>Nina</td>\n",
       "      <td>Spayed Female</td>\n",
       "    </tr>\n",
       "    <tr>\n",
       "      <th>22959</th>\n",
       "      <td>1 week</td>\n",
       "      <td>A664235</td>\n",
       "      <td>Cat</td>\n",
       "      <td>Domestic Shorthair Mix</td>\n",
       "      <td>Orange/White</td>\n",
       "      <td>2013-10-01 08:33:00</td>\n",
       "      <td>2013-10-01 08:33:00</td>\n",
       "      <td>Abia in Austin (TX)</td>\n",
       "      <td>Normal</td>\n",
       "      <td>Stray</td>\n",
       "      <td>NaN</td>\n",
       "      <td>Unknown</td>\n",
       "    </tr>\n",
       "    <tr>\n",
       "      <th>68005</th>\n",
       "      <td>1 week</td>\n",
       "      <td>A664236</td>\n",
       "      <td>Cat</td>\n",
       "      <td>Domestic Shorthair Mix</td>\n",
       "      <td>Orange/White</td>\n",
       "      <td>2013-10-01 08:33:00</td>\n",
       "      <td>2013-10-01 08:33:00</td>\n",
       "      <td>Abia in Austin (TX)</td>\n",
       "      <td>Normal</td>\n",
       "      <td>Stray</td>\n",
       "      <td>NaN</td>\n",
       "      <td>Unknown</td>\n",
       "    </tr>\n",
       "    <tr>\n",
       "      <th>1421</th>\n",
       "      <td>1 week</td>\n",
       "      <td>A664237</td>\n",
       "      <td>Cat</td>\n",
       "      <td>Domestic Shorthair Mix</td>\n",
       "      <td>Orange/White</td>\n",
       "      <td>2013-10-01 08:33:00</td>\n",
       "      <td>2013-10-01 08:33:00</td>\n",
       "      <td>Abia in Austin (TX)</td>\n",
       "      <td>Normal</td>\n",
       "      <td>Stray</td>\n",
       "      <td>NaN</td>\n",
       "      <td>Unknown</td>\n",
       "    </tr>\n",
       "    <tr>\n",
       "      <th>69023</th>\n",
       "      <td>3 years</td>\n",
       "      <td>A664233</td>\n",
       "      <td>Dog</td>\n",
       "      <td>Pit Bull Mix</td>\n",
       "      <td>Blue/White</td>\n",
       "      <td>2013-10-01 08:53:00</td>\n",
       "      <td>2013-10-01 08:53:00</td>\n",
       "      <td>7405 Springtime in Austin (TX)</td>\n",
       "      <td>Injured</td>\n",
       "      <td>Stray</td>\n",
       "      <td>Stevie</td>\n",
       "      <td>Intact Female</td>\n",
       "    </tr>\n",
       "    <tr>\n",
       "      <th>...</th>\n",
       "      <td>...</td>\n",
       "      <td>...</td>\n",
       "      <td>...</td>\n",
       "      <td>...</td>\n",
       "      <td>...</td>\n",
       "      <td>...</td>\n",
       "      <td>...</td>\n",
       "      <td>...</td>\n",
       "      <td>...</td>\n",
       "      <td>...</td>\n",
       "      <td>...</td>\n",
       "      <td>...</td>\n",
       "    </tr>\n",
       "    <tr>\n",
       "      <th>80178</th>\n",
       "      <td>4 years</td>\n",
       "      <td>A722721</td>\n",
       "      <td>Cat</td>\n",
       "      <td>Domestic Shorthair Mix</td>\n",
       "      <td>Black</td>\n",
       "      <td>2018-03-29 17:54:00</td>\n",
       "      <td>2018-03-29 17:54:00</td>\n",
       "      <td>1601 Royal Crest Drive in Austin (TX)</td>\n",
       "      <td>Normal</td>\n",
       "      <td>Stray</td>\n",
       "      <td>NaN</td>\n",
       "      <td>Spayed Female</td>\n",
       "    </tr>\n",
       "    <tr>\n",
       "      <th>80169</th>\n",
       "      <td>1 year</td>\n",
       "      <td>A767605</td>\n",
       "      <td>Dog</td>\n",
       "      <td>Boxer</td>\n",
       "      <td>Tan/White</td>\n",
       "      <td>2018-03-29 18:15:00</td>\n",
       "      <td>2018-03-29 18:15:00</td>\n",
       "      <td>Austin (TX)</td>\n",
       "      <td>Normal</td>\n",
       "      <td>Owner Surrender</td>\n",
       "      <td>George</td>\n",
       "      <td>Neutered Male</td>\n",
       "    </tr>\n",
       "    <tr>\n",
       "      <th>80172</th>\n",
       "      <td>5 months</td>\n",
       "      <td>A769066</td>\n",
       "      <td>Dog</td>\n",
       "      <td>Labrador Retriever Mix</td>\n",
       "      <td>Black/White</td>\n",
       "      <td>2018-03-29 18:19:00</td>\n",
       "      <td>2018-03-29 18:19:00</td>\n",
       "      <td>12034 Research Blvd Sb in Austin (TX)</td>\n",
       "      <td>Normal</td>\n",
       "      <td>Stray</td>\n",
       "      <td>NaN</td>\n",
       "      <td>Intact Male</td>\n",
       "    </tr>\n",
       "    <tr>\n",
       "      <th>80182</th>\n",
       "      <td>10 years</td>\n",
       "      <td>A769067</td>\n",
       "      <td>Dog</td>\n",
       "      <td>Boxer Mix</td>\n",
       "      <td>Brown Brindle</td>\n",
       "      <td>2018-03-29 18:20:00</td>\n",
       "      <td>2018-03-29 18:20:00</td>\n",
       "      <td>11216 Jollyville Rd 216 in Austin (TX)</td>\n",
       "      <td>Aged</td>\n",
       "      <td>Stray</td>\n",
       "      <td>NaN</td>\n",
       "      <td>Spayed Female</td>\n",
       "    </tr>\n",
       "    <tr>\n",
       "      <th>80171</th>\n",
       "      <td>2 years</td>\n",
       "      <td>A768958</td>\n",
       "      <td>Dog</td>\n",
       "      <td>Chihuahua Shorthair Mix</td>\n",
       "      <td>Tan</td>\n",
       "      <td>2018-03-29 18:32:00</td>\n",
       "      <td>2018-03-29 18:32:00</td>\n",
       "      <td>Austin (TX)</td>\n",
       "      <td>Normal</td>\n",
       "      <td>Public Assist</td>\n",
       "      <td>Bobby</td>\n",
       "      <td>Intact Male</td>\n",
       "    </tr>\n",
       "  </tbody>\n",
       "</table>\n",
       "<p>80187 rows × 12 columns</p>\n",
       "</div>"
      ],
      "text/plain": [
       "      age_upon_intake animal_id animal_type                         breed  \\\n",
       "42753         7 years   A521520         Dog  Border Terrier/Border Collie   \n",
       "22959          1 week   A664235         Cat        Domestic Shorthair Mix   \n",
       "68005          1 week   A664236         Cat        Domestic Shorthair Mix   \n",
       "1421           1 week   A664237         Cat        Domestic Shorthair Mix   \n",
       "69023         3 years   A664233         Dog                  Pit Bull Mix   \n",
       "...               ...       ...         ...                           ...   \n",
       "80178         4 years   A722721         Cat        Domestic Shorthair Mix   \n",
       "80169          1 year   A767605         Dog                         Boxer   \n",
       "80172        5 months   A769066         Dog        Labrador Retriever Mix   \n",
       "80182        10 years   A769067         Dog                     Boxer Mix   \n",
       "80171         2 years   A768958         Dog       Chihuahua Shorthair Mix   \n",
       "\n",
       "               color            datetime           datetime2  \\\n",
       "42753      White/Tan 2013-10-01 07:51:00 2013-10-01 07:51:00   \n",
       "22959   Orange/White 2013-10-01 08:33:00 2013-10-01 08:33:00   \n",
       "68005   Orange/White 2013-10-01 08:33:00 2013-10-01 08:33:00   \n",
       "1421    Orange/White 2013-10-01 08:33:00 2013-10-01 08:33:00   \n",
       "69023     Blue/White 2013-10-01 08:53:00 2013-10-01 08:53:00   \n",
       "...              ...                 ...                 ...   \n",
       "80178          Black 2018-03-29 17:54:00 2018-03-29 17:54:00   \n",
       "80169      Tan/White 2018-03-29 18:15:00 2018-03-29 18:15:00   \n",
       "80172    Black/White 2018-03-29 18:19:00 2018-03-29 18:19:00   \n",
       "80182  Brown Brindle 2018-03-29 18:20:00 2018-03-29 18:20:00   \n",
       "80171            Tan 2018-03-29 18:32:00 2018-03-29 18:32:00   \n",
       "\n",
       "                               found_location intake_condition  \\\n",
       "42753                 Norht Ec in Austin (TX)           Normal   \n",
       "22959                     Abia in Austin (TX)           Normal   \n",
       "68005                     Abia in Austin (TX)           Normal   \n",
       "1421                      Abia in Austin (TX)           Normal   \n",
       "69023          7405 Springtime in Austin (TX)          Injured   \n",
       "...                                       ...              ...   \n",
       "80178   1601 Royal Crest Drive in Austin (TX)           Normal   \n",
       "80169                             Austin (TX)           Normal   \n",
       "80172   12034 Research Blvd Sb in Austin (TX)           Normal   \n",
       "80182  11216 Jollyville Rd 216 in Austin (TX)             Aged   \n",
       "80171                             Austin (TX)           Normal   \n",
       "\n",
       "           intake_type    name sex_upon_intake  \n",
       "42753            Stray    Nina   Spayed Female  \n",
       "22959            Stray     NaN         Unknown  \n",
       "68005            Stray     NaN         Unknown  \n",
       "1421             Stray     NaN         Unknown  \n",
       "69023            Stray  Stevie   Intact Female  \n",
       "...                ...     ...             ...  \n",
       "80178            Stray     NaN   Spayed Female  \n",
       "80169  Owner Surrender  George   Neutered Male  \n",
       "80172            Stray     NaN     Intact Male  \n",
       "80182            Stray     NaN   Spayed Female  \n",
       "80171    Public Assist   Bobby     Intact Male  \n",
       "\n",
       "[80187 rows x 12 columns]"
      ]
     },
     "execution_count": 5,
     "metadata": {},
     "output_type": "execute_result"
    }
   ],
   "source": [
    "#change data type of input_data\n",
    "input_data[['datetime','datetime2']]=input_data[['datetime','datetime2']].apply(pd.to_datetime)\n",
    "input_data.info()\n",
    "input_data.sort_values(by='datetime')"
   ]
  },
  {
   "cell_type": "code",
   "execution_count": 6,
   "id": "3583012b",
   "metadata": {},
   "outputs": [
    {
     "name": "stdout",
     "output_type": "stream",
     "text": [
      "<class 'pandas.core.frame.DataFrame'>\n",
      "RangeIndex: 80681 entries, 0 to 80680\n",
      "Data columns (total 12 columns):\n",
      " #   Column            Non-Null Count  Dtype \n",
      "---  ------            --------------  ----- \n",
      " 0   age_upon_outcome  80673 non-null  object\n",
      " 1   animal_id         80681 non-null  object\n",
      " 2   animal_type       80681 non-null  object\n",
      " 3   breed             80681 non-null  object\n",
      " 4   color             80681 non-null  object\n",
      " 5   date_of_birth     80681 non-null  object\n",
      " 6   datetime          80681 non-null  object\n",
      " 7   monthyear         80681 non-null  object\n",
      " 8   name              56116 non-null  object\n",
      " 9   outcome_subtype   36893 non-null  object\n",
      " 10  outcome_type      80667 non-null  object\n",
      " 11  sex_upon_outcome  80679 non-null  object\n",
      "dtypes: object(12)\n",
      "memory usage: 7.4+ MB\n"
     ]
    }
   ],
   "source": [
    "output_data.info()\n",
    "output_data[['date_of_birth','datetime','monthyear']]=output_data[['date_of_birth','datetime','monthyear']].apply(pd.to_datetime)\n"
   ]
  },
  {
   "cell_type": "code",
   "execution_count": 7,
   "id": "2dac468f",
   "metadata": {},
   "outputs": [
    {
     "name": "stdout",
     "output_type": "stream",
     "text": [
      "<class 'pandas.core.frame.DataFrame'>\n",
      "RangeIndex: 80681 entries, 0 to 80680\n",
      "Data columns (total 12 columns):\n",
      " #   Column            Non-Null Count  Dtype         \n",
      "---  ------            --------------  -----         \n",
      " 0   age_upon_outcome  80673 non-null  object        \n",
      " 1   animal_id         80681 non-null  object        \n",
      " 2   animal_type       80681 non-null  object        \n",
      " 3   breed             80681 non-null  object        \n",
      " 4   color             80681 non-null  object        \n",
      " 5   date_of_birth     80681 non-null  datetime64[ns]\n",
      " 6   datetime          80681 non-null  datetime64[ns]\n",
      " 7   monthyear         80681 non-null  datetime64[ns]\n",
      " 8   name              56116 non-null  object        \n",
      " 9   outcome_subtype   36893 non-null  object        \n",
      " 10  outcome_type      80667 non-null  object        \n",
      " 11  sex_upon_outcome  80679 non-null  object        \n",
      "dtypes: datetime64[ns](3), object(9)\n",
      "memory usage: 7.4+ MB\n"
     ]
    }
   ],
   "source": [
    "output_data.info()"
   ]
  },
  {
   "cell_type": "markdown",
   "id": "494c92a1",
   "metadata": {},
   "source": [
    "Duplicated rows can be removed before analysis."
   ]
  },
  {
   "cell_type": "code",
   "execution_count": 8,
   "id": "66b5b394",
   "metadata": {},
   "outputs": [
    {
     "data": {
      "text/html": [
       "<div>\n",
       "<style scoped>\n",
       "    .dataframe tbody tr th:only-of-type {\n",
       "        vertical-align: middle;\n",
       "    }\n",
       "\n",
       "    .dataframe tbody tr th {\n",
       "        vertical-align: top;\n",
       "    }\n",
       "\n",
       "    .dataframe thead th {\n",
       "        text-align: right;\n",
       "    }\n",
       "</style>\n",
       "<table border=\"1\" class=\"dataframe\">\n",
       "  <thead>\n",
       "    <tr style=\"text-align: right;\">\n",
       "      <th></th>\n",
       "      <th>age_upon_intake</th>\n",
       "      <th>animal_id</th>\n",
       "      <th>animal_type</th>\n",
       "      <th>breed</th>\n",
       "      <th>color</th>\n",
       "      <th>datetime</th>\n",
       "      <th>datetime2</th>\n",
       "      <th>found_location</th>\n",
       "      <th>intake_condition</th>\n",
       "      <th>intake_type</th>\n",
       "      <th>name</th>\n",
       "      <th>sex_upon_intake</th>\n",
       "    </tr>\n",
       "  </thead>\n",
       "  <tbody>\n",
       "    <tr>\n",
       "      <th>9148</th>\n",
       "      <td>8 years</td>\n",
       "      <td>A561806</td>\n",
       "      <td>Dog</td>\n",
       "      <td>Pit Bull Mix</td>\n",
       "      <td>Brown Brindle/White</td>\n",
       "      <td>2017-06-05 11:36:00</td>\n",
       "      <td>2017-06-05 11:36:00</td>\n",
       "      <td>2002 Nightview in Austin (TX)</td>\n",
       "      <td>Normal</td>\n",
       "      <td>Stray</td>\n",
       "      <td>Dasia</td>\n",
       "      <td>Spayed Female</td>\n",
       "    </tr>\n",
       "    <tr>\n",
       "      <th>9149</th>\n",
       "      <td>8 years</td>\n",
       "      <td>A561806</td>\n",
       "      <td>Dog</td>\n",
       "      <td>Pit Bull Mix</td>\n",
       "      <td>Brown Brindle/White</td>\n",
       "      <td>2017-06-05 11:36:00</td>\n",
       "      <td>2017-06-05 11:36:00</td>\n",
       "      <td>2002 Nightview in Austin (TX)</td>\n",
       "      <td>Normal</td>\n",
       "      <td>Stray</td>\n",
       "      <td>Dasia</td>\n",
       "      <td>Spayed Female</td>\n",
       "    </tr>\n",
       "    <tr>\n",
       "      <th>80015</th>\n",
       "      <td>5 years</td>\n",
       "      <td>A667596</td>\n",
       "      <td>Dog</td>\n",
       "      <td>Pit Bull Mix</td>\n",
       "      <td>Brown/White</td>\n",
       "      <td>2018-03-27 12:23:00</td>\n",
       "      <td>2018-03-27 12:23:00</td>\n",
       "      <td>Strickland And United Kingdom in Austin (TX)</td>\n",
       "      <td>Normal</td>\n",
       "      <td>Stray</td>\n",
       "      <td>*Snickers</td>\n",
       "      <td>Spayed Female</td>\n",
       "    </tr>\n",
       "    <tr>\n",
       "      <th>79999</th>\n",
       "      <td>5 years</td>\n",
       "      <td>A667596</td>\n",
       "      <td>Dog</td>\n",
       "      <td>Pit Bull Mix</td>\n",
       "      <td>Brown/White</td>\n",
       "      <td>2018-03-27 12:23:00</td>\n",
       "      <td>2018-03-27 12:23:00</td>\n",
       "      <td>Strickland And United Kingdom in Austin (TX)</td>\n",
       "      <td>Normal</td>\n",
       "      <td>Stray</td>\n",
       "      <td>*Snickers</td>\n",
       "      <td>Spayed Female</td>\n",
       "    </tr>\n",
       "    <tr>\n",
       "      <th>36975</th>\n",
       "      <td>10 months</td>\n",
       "      <td>A668183</td>\n",
       "      <td>Dog</td>\n",
       "      <td>Dachshund Mix</td>\n",
       "      <td>Black/White</td>\n",
       "      <td>2014-06-27 11:34:00</td>\n",
       "      <td>2014-06-27 11:34:00</td>\n",
       "      <td>Austin (TX)</td>\n",
       "      <td>Normal</td>\n",
       "      <td>Public Assist</td>\n",
       "      <td>Nacha</td>\n",
       "      <td>Spayed Female</td>\n",
       "    </tr>\n",
       "  </tbody>\n",
       "</table>\n",
       "</div>"
      ],
      "text/plain": [
       "      age_upon_intake animal_id animal_type          breed  \\\n",
       "9148          8 years   A561806         Dog   Pit Bull Mix   \n",
       "9149          8 years   A561806         Dog   Pit Bull Mix   \n",
       "80015         5 years   A667596         Dog   Pit Bull Mix   \n",
       "79999         5 years   A667596         Dog   Pit Bull Mix   \n",
       "36975       10 months   A668183         Dog  Dachshund Mix   \n",
       "\n",
       "                     color            datetime           datetime2  \\\n",
       "9148   Brown Brindle/White 2017-06-05 11:36:00 2017-06-05 11:36:00   \n",
       "9149   Brown Brindle/White 2017-06-05 11:36:00 2017-06-05 11:36:00   \n",
       "80015          Brown/White 2018-03-27 12:23:00 2018-03-27 12:23:00   \n",
       "79999          Brown/White 2018-03-27 12:23:00 2018-03-27 12:23:00   \n",
       "36975          Black/White 2014-06-27 11:34:00 2014-06-27 11:34:00   \n",
       "\n",
       "                                     found_location intake_condition  \\\n",
       "9148                  2002 Nightview in Austin (TX)           Normal   \n",
       "9149                  2002 Nightview in Austin (TX)           Normal   \n",
       "80015  Strickland And United Kingdom in Austin (TX)           Normal   \n",
       "79999  Strickland And United Kingdom in Austin (TX)           Normal   \n",
       "36975                                   Austin (TX)           Normal   \n",
       "\n",
       "         intake_type       name sex_upon_intake  \n",
       "9148           Stray      Dasia   Spayed Female  \n",
       "9149           Stray      Dasia   Spayed Female  \n",
       "80015          Stray  *Snickers   Spayed Female  \n",
       "79999          Stray  *Snickers   Spayed Female  \n",
       "36975  Public Assist      Nacha   Spayed Female  "
      ]
     },
     "execution_count": 8,
     "metadata": {},
     "output_type": "execute_result"
    }
   ],
   "source": [
    "#check duplicates, and see how data is duplicated\n",
    "input_data_dup=input_data[input_data.duplicated(keep=False)]\n",
    "input_data_dup.sort_values(by='animal_id').head()"
   ]
  },
  {
   "cell_type": "code",
   "execution_count": 9,
   "id": "273a2b12",
   "metadata": {},
   "outputs": [
    {
     "data": {
      "text/plain": [
       "(80161, 12)"
      ]
     },
     "execution_count": 9,
     "metadata": {},
     "output_type": "execute_result"
    }
   ],
   "source": [
    "# remove duplicate\n",
    "input_data=input_data.drop_duplicates()\n",
    "input_data.sort_values(by='animal_id').head(10)\n",
    "input_data.shape\n",
    "input_data=input_data.dropna(subset=['animal_id','datetime','datetime2'])\n",
    "input_data.shape"
   ]
  },
  {
   "cell_type": "code",
   "execution_count": 10,
   "id": "d5cde31a",
   "metadata": {},
   "outputs": [
    {
     "data": {
      "text/plain": [
       "(72365, 12)"
      ]
     },
     "execution_count": 10,
     "metadata": {},
     "output_type": "execute_result"
    }
   ],
   "source": [
    "input_data_up = input_data .sort_values(by='datetime', ascending=False)  # Sort by date (latest first)\n",
    "input_data_up = input_data.drop_duplicates(subset='animal_id', keep='first')  # Keep the first (latest)\n",
    "input_data_up.shape"
   ]
  },
  {
   "cell_type": "markdown",
   "id": "cd706634",
   "metadata": {},
   "source": [
    "Similar to acc_outcome, we will remove duplicate entry uupdate the latest time of the animal intakes with the latest time"
   ]
  },
  {
   "cell_type": "code",
   "execution_count": 11,
   "id": "7f50352a",
   "metadata": {},
   "outputs": [
    {
     "data": {
      "text/plain": [
       "(72877, 12)"
      ]
     },
     "execution_count": 11,
     "metadata": {},
     "output_type": "execute_result"
    }
   ],
   "source": [
    "output_data=output_data.drop_duplicates()\n",
    "output_data=output_data.dropna(subset=['animal_id'])\n",
    "output_data=output_data.sort_values(by='datetime', ascending=False)  # Sort by date (latest first)\n",
    "output_data= output_data.drop_duplicates(subset='animal_id', keep='first')  # Keep the first (latest)\n",
    "output_data.shape"
   ]
  },
  {
   "cell_type": "markdown",
   "id": "f7c53429",
   "metadata": {},
   "source": [
    "# Answers question"
   ]
  },
  {
   "cell_type": "markdown",
   "id": "8ffdad46",
   "metadata": {},
   "source": [
    "#### Question number 1: What is the distribution of the types of animals in the shelter?"
   ]
  },
  {
   "cell_type": "code",
   "execution_count": 12,
   "id": "5af9436a",
   "metadata": {},
   "outputs": [
    {
     "data": {
      "text/plain": [
       "animal_type\n",
       "Dog          45730\n",
       "Cat          29651\n",
       "Other         4429\n",
       "Bird           342\n",
       "Livestock        9\n",
       "Name: count, dtype: int64"
      ]
     },
     "execution_count": 12,
     "metadata": {},
     "output_type": "execute_result"
    }
   ],
   "source": [
    "input_data['animal_type'].value_counts()"
   ]
  },
  {
   "cell_type": "markdown",
   "id": "7c98bf88",
   "metadata": {},
   "source": [
    "#### Question number 2: Is there an area where more pets are found?. Find the top 5 location where pet are found"
   ]
  },
  {
   "cell_type": "code",
   "execution_count": 13,
   "id": "937afda9",
   "metadata": {},
   "outputs": [
    {
     "data": {
      "text/plain": [
       "found_location\n",
       "Austin (TX)                          14437\n",
       "Outside Jurisdiction                   948\n",
       "Travis (TX)                            921\n",
       "7201 Levander Loop in Austin (TX)      517\n",
       "Del Valle (TX)                         411\n",
       "Name: animal_id, dtype: int64"
      ]
     },
     "execution_count": 13,
     "metadata": {},
     "output_type": "execute_result"
    }
   ],
   "source": [
    "# cach1: get the first afer sorting valuesvalues\n",
    "count_location=input_data.groupby('found_location')['animal_id'].count().sort_values(ascending=False).head(5)\n",
    "count_location"
   ]
  },
  {
   "cell_type": "code",
   "execution_count": 14,
   "id": "6255ca40",
   "metadata": {},
   "outputs": [
    {
     "data": {
      "text/plain": [
       "found_location\n",
       "Austin (TX)                          14437\n",
       "Outside Jurisdiction                   948\n",
       "Travis (TX)                            921\n",
       "7201 Levander Loop in Austin (TX)      517\n",
       "Del Valle (TX)                         411\n",
       "Name: count, dtype: int64"
      ]
     },
     "execution_count": 14,
     "metadata": {},
     "output_type": "execute_result"
    }
   ],
   "source": [
    "# cach 2: can get the value with the same result at top 5\n",
    "location_group=input_data['found_location'].value_counts()\n",
    "threshold=location_group.iloc[4]\n",
    "top_5=location_group[location_group>=threshold]\n",
    "top_5"
   ]
  },
  {
   "cell_type": "markdown",
   "id": "d557cb3d",
   "metadata": {},
   "source": [
    "#### Question number 3: What is the average number of pets found in a month in the year 2015?. Are there months where there is a higher number of animals found?"
   ]
  },
  {
   "cell_type": "code",
   "execution_count": 15,
   "id": "db62d170",
   "metadata": {},
   "outputs": [
    {
     "name": "stdout",
     "output_type": "stream",
     "text": [
      "Average number of animals found per month in 2015: 1556.3333333333333\n",
      "The month(s) with the highest number of found pets in 2015 is/are: 12 with 1095 found pets.\n"
     ]
    }
   ],
   "source": [
    "# Filter data for 2015\n",
    "data_2015 = input_data[(input_data['datetime'] >= \"2015-01-01\") & (input_data['datetime'] <= \"2015-12-31\")]\n",
    "\n",
    "# Calculate the average number of found animals per month in 2015\n",
    "avg_2015 = data_2015.groupby(data_2015['datetime'].dt.month)['animal_id'].count().mean()\n",
    "print(f\"Average number of animals found per month in 2015: {avg_2015}\")\n",
    "\n",
    "# Group by month and count occurrences of 'animal_id'\n",
    "animal_2015 = data_2015.groupby(data_2015['datetime'].dt.month)['animal_id'].count().sort_values()\n",
    "\n",
    "# Get the highest number of found animals in a single month (top 1)\n",
    "top_1 = animal_2015.iloc[0]  # Highest number of found pets in a month\n",
    "month_1 = animal_2015[animal_2015 == top_1]  # Get the months with the top count\n",
    "months= ','.join(map(str, month_1.index.tolist()))\n",
    "# Convert months to a string without square brackets\n",
    "months = ', '.join(map(str, month_1.index.tolist()))\n",
    "\n",
    "# Print the month(s) and the number of found pets\n",
    "print(f\"The month(s) with the highest number of found pets in 2015 is/are: {months} with {top_1} found pets.\")\n",
    "\n"
   ]
  },
  {
   "cell_type": "markdown",
   "id": "2c3541ec",
   "metadata": {},
   "source": [
    "#### Question number 4: What is the ratio of incoming pets vs. adopted pets"
   ]
  },
  {
   "cell_type": "code",
   "execution_count": 16,
   "id": "858bb434",
   "metadata": {},
   "outputs": [
    {
     "name": "stdout",
     "output_type": "stream",
     "text": [
      "Ratio of incoming pets and adopted pets 41.307 %\n"
     ]
    }
   ],
   "source": [
    "# check the number of animals incoming\n",
    "in_animal=input_data_up.shape[0]\n",
    "# Number of adopted pets\n",
    "out_animal=output_data[output_data['outcome_type']=='Adoption'].shape[0]\n",
    "print ('Ratio of incoming pets and adopted pets', round(100*out_animal/in_animal,3),'%')"
   ]
  },
  {
   "cell_type": "markdown",
   "id": "05ea009f",
   "metadata": {},
   "source": [
    "#### Question number 5: What are the adoption rates for specific breeds?\n",
    "#### Find the top 5 dog breeds in the shelter (based on count) and then find the adoption percentage of each breed."
   ]
  },
  {
   "cell_type": "code",
   "execution_count": 17,
   "id": "cd44da11",
   "metadata": {},
   "outputs": [
    {
     "name": "stdout",
     "output_type": "stream",
     "text": [
      "                       breed  adoption count  intakes Adoption Rate\n",
      "0               Pit Bull Mix            1832     5064       36.18 %\n",
      "1    Chihuahua Shorthair Mix            2043     4430       46.12 %\n",
      "2     Labrador Retriever Mix            2042     4190       48.74 %\n",
      "3        German Shepherd Mix             770     1665       46.25 %\n",
      "4  Australian Cattle Dog Mix             513      957       53.61 %\n"
     ]
    }
   ],
   "source": [
    "# total intakes of dog breedsbreeds\n",
    "dog_data=input_data_up[input_data_up['animal_type']=='Dog']\n",
    "breed_count=dog_data['breed'].value_counts()\n",
    "threshold=breed_count.iloc[4]\n",
    "top_5=breed_count[breed_count>=threshold]\n",
    "top_5_df = top_5.reset_index()  # Converts the Series to DataFrame\n",
    "top_5_df.columns = ['breed', 'intakes']  # Rename the columns\n",
    "\n",
    "top_5_intakes=top_5.index.to_list()\n",
    "## Find the adoption for dog breedsbreeds\n",
    "dog_outcome = output_data[(output_data['animal_type'] == 'Dog') & (output_data['outcome_type'] == 'Adoption')]\n",
    "\n",
    "dict_dog = {}\n",
    "\n",
    "# Assuming top_5_intakes is a list of the top 5 breed values\n",
    "for i in top_5_intakes:\n",
    "    count_breed = dog_outcome[dog_outcome['breed'] == i].shape[0]  # Count occurrences of breed\n",
    "    dict_dog[i] = count_breed  # Add breed and its count to the dictionary\n",
    "\n",
    "# Convert dictionary to DataFrame for better readability\n",
    "dog_df = pd.DataFrame(list(dict_dog.items()), columns=['breed', 'adoption count'])\n",
    "merged_df = pd.merge(dog_df, top_5_df, on='breed', how='inner')\n",
    "merged_df['Adoption Rate']=merged_df['adoption count']*100/merged_df['intakes'] \n",
    "merged_df['Adoption Rate'] = round(merged_df['Adoption Rate'],2).astype(str) + ' %'\n",
    "print(merged_df)"
   ]
  },
  {
   "cell_type": "markdown",
   "id": "7f847d1e",
   "metadata": {},
   "source": [
    "#### Question number 6: About how many animals are spayed/neutered each month?\n",
    "#### This will help the shelter allocate resources and staff. Assume that all intact males and females will be spayed/neutered.\n"
   ]
  },
  {
   "cell_type": "code",
   "execution_count": 18,
   "id": "f2f5878b",
   "metadata": {},
   "outputs": [
    {
     "name": "stdout",
     "output_type": "stream",
     "text": [
      "72365\n",
      "72877\n"
     ]
    }
   ],
   "source": [
    "#Slice data to sex_intakess, sex_outcomes\n",
    "\n",
    "sex_intakes=input_data_up[['animal_id','sex_upon_intake']]\n",
    "sex_outcomes_new=output_data[['animal_id','sex_upon_outcome','monthyear']]\n",
    "print(sex_intakes.shape[0])\n",
    "print(sex_outcomes_new.shape[0])"
   ]
  },
  {
   "cell_type": "code",
   "execution_count": 19,
   "id": "e8694b9c",
   "metadata": {},
   "outputs": [
    {
     "data": {
      "text/plain": [
       "array(['Spayed Female', 'Intact Male', 'Intact Female', 'Neutered Male',\n",
       "       'Unknown', nan], dtype=object)"
      ]
     },
     "execution_count": 19,
     "metadata": {},
     "output_type": "execute_result"
    }
   ],
   "source": [
    "#Find the animals are spayed or neutered by staff\n",
    "#Step 1:Find the animals that haven't been spayed before\n",
    "#Step 2: Find the animals that have been spay after outcomes\n",
    "#Step 3: Filter data based on step1, step 2\n",
    "sex_intakes['sex_upon_intake'].unique()"
   ]
  },
  {
   "cell_type": "code",
   "execution_count": 20,
   "id": "6af029c1",
   "metadata": {},
   "outputs": [],
   "source": [
    "#Step 1:Find the animals that haven't been spayed before\n",
    "intake_no_spay = sex_intakes[\n",
    "    (sex_intakes['sex_upon_intake'] != 'Spayed Female') & \n",
    "    (sex_intakes['sex_upon_intake'] != 'Neutered Male')\n",
    "]\n"
   ]
  },
  {
   "cell_type": "code",
   "execution_count": 21,
   "id": "079cd948",
   "metadata": {},
   "outputs": [],
   "source": [
    "#Step 2: Find the animals that have been spay after outcomes\n",
    "outcome_spay=sex_outcomes_new[\n",
    "        (sex_outcomes_new['sex_upon_outcome'] == 'Spayed Female') |\n",
    "    (sex_outcomes_new['sex_upon_outcome'] == 'Neutered Male')\n",
    "]\n"
   ]
  },
  {
   "cell_type": "code",
   "execution_count": 22,
   "id": "5b487b17",
   "metadata": {},
   "outputs": [
    {
     "name": "stdout",
     "output_type": "stream",
     "text": [
      "Average animals that are spayed or neuteredutered each month 515\n"
     ]
    }
   ],
   "source": [
    "intersection_data=pd.merge(intake_no_spay,outcome_spay,how ='inner', on =['animal_id'])\n",
    "intersection_data['month_year'] = intersection_data['monthyear'].dt.strftime('%Y-%m')\n",
    "month_number=intersection_data['month_year'].nunique()\n",
    "print('Average animals that are spayed or neuteredutered each month', round(intersection_data.shape[0]/month_number))"
   ]
  },
  {
   "cell_type": "markdown",
   "id": "1eed4eef",
   "metadata": {},
   "source": [
    "#### Question number 7\n",
    "How many animals in the shelter are repeats?, Which animal was returned to the shelter the most?\n",
    "This means the animal has been brought in more than once."
   ]
  },
  {
   "cell_type": "code",
   "execution_count": 23,
   "id": "09c92a40",
   "metadata": {},
   "outputs": [
    {
     "data": {
      "text/plain": [
       "13929"
      ]
     },
     "execution_count": 23,
     "metadata": {},
     "output_type": "execute_result"
    }
   ],
   "source": [
    "ids_in = input_data.animal_id\n",
    "ids_out = output_data.animal_id\n",
    "\n",
    "Duprows_aac_intakes = input_data[ids_in.isin(ids_in[ids_in.duplicated()])].sort_values(\"animal_id\")\n",
    "Duprows_aac_outcomes = output_data[ids_out.isin(ids_out[ids_out.duplicated()])].sort_values(\"animal_id\")\n",
    "Duprows_aac_intakes.shape[0]"
   ]
  },
  {
   "cell_type": "code",
   "execution_count": 24,
   "id": "edf6f0e6",
   "metadata": {},
   "outputs": [
    {
     "name": "stdout",
     "output_type": "stream",
     "text": [
      "There are 13929 animals in the shelter that are repeats\n"
     ]
    }
   ],
   "source": [
    "# In aac_intakes, we find the most animal_type was returned to the shelter\n",
    "id_in_dup = input_data[input_data['animal_id'].duplicated()]['animal_id']\n",
    "dup_id=input_data[input_data['animal_id'].isin(id_in_dup)]\n",
    "print('There are', dup_id.shape[0] ,'animals in the shelter that are repeats')"
   ]
  },
  {
   "cell_type": "code",
   "execution_count": 25,
   "id": "e93171b0",
   "metadata": {},
   "outputs": [
    {
     "name": "stdout",
     "output_type": "stream",
     "text": [
      "Dog having the highest times of return 11537\n"
     ]
    }
   ],
   "source": [
    "top_repeat=dup_id['animal_type'].value_counts()\n",
    "print(top_repeat.index[0], 'having the highest times of return', top_repeat.iloc[0])"
   ]
  },
  {
   "cell_type": "markdown",
   "id": "d2febf43",
   "metadata": {},
   "source": [
    "#### Question number 8\n",
    "What are the adoption rates for different colorings?\n",
    "Find the top 5 colorings in the shelter (based on count) and then find the adoption percentage of each color.\n"
   ]
  },
  {
   "cell_type": "code",
   "execution_count": 26,
   "id": "a989af60",
   "metadata": {},
   "outputs": [
    {
     "name": "stdout",
     "output_type": "stream",
     "text": [
      "[np.int64(2155), np.int64(941), np.int64(924), np.int64(961), np.int64(795)]\n",
      "[np.int64(4438), np.int64(2226), np.int64(2093), np.int64(2091), np.int64(2082)]\n"
     ]
    },
    {
     "data": {
      "text/html": [
       "<div>\n",
       "<style scoped>\n",
       "    .dataframe tbody tr th:only-of-type {\n",
       "        vertical-align: middle;\n",
       "    }\n",
       "\n",
       "    .dataframe tbody tr th {\n",
       "        vertical-align: top;\n",
       "    }\n",
       "\n",
       "    .dataframe thead th {\n",
       "        text-align: right;\n",
       "    }\n",
       "</style>\n",
       "<table border=\"1\" class=\"dataframe\">\n",
       "  <thead>\n",
       "    <tr style=\"text-align: right;\">\n",
       "      <th></th>\n",
       "      <th>color</th>\n",
       "      <th>total animals</th>\n",
       "      <th>adoption number</th>\n",
       "      <th>adoption rate</th>\n",
       "    </tr>\n",
       "  </thead>\n",
       "  <tbody>\n",
       "    <tr>\n",
       "      <th>0</th>\n",
       "      <td>Black/White</td>\n",
       "      <td>4438</td>\n",
       "      <td>2155</td>\n",
       "      <td>48.56%</td>\n",
       "    </tr>\n",
       "    <tr>\n",
       "      <th>1</th>\n",
       "      <td>Black</td>\n",
       "      <td>2226</td>\n",
       "      <td>941</td>\n",
       "      <td>42.27%</td>\n",
       "    </tr>\n",
       "    <tr>\n",
       "      <th>2</th>\n",
       "      <td>Brown/White</td>\n",
       "      <td>2093</td>\n",
       "      <td>924</td>\n",
       "      <td>44.15%</td>\n",
       "    </tr>\n",
       "    <tr>\n",
       "      <th>3</th>\n",
       "      <td>Tan/White</td>\n",
       "      <td>2091</td>\n",
       "      <td>961</td>\n",
       "      <td>45.96%</td>\n",
       "    </tr>\n",
       "    <tr>\n",
       "      <th>4</th>\n",
       "      <td>White</td>\n",
       "      <td>2082</td>\n",
       "      <td>795</td>\n",
       "      <td>38.18%</td>\n",
       "    </tr>\n",
       "  </tbody>\n",
       "</table>\n",
       "</div>"
      ],
      "text/plain": [
       "         color  total animals  adoption number adoption rate\n",
       "0  Black/White           4438             2155        48.56%\n",
       "1        Black           2226              941        42.27%\n",
       "2  Brown/White           2093              924        44.15%\n",
       "3    Tan/White           2091              961        45.96%\n",
       "4        White           2082              795        38.18%"
      ]
     },
     "execution_count": 26,
     "metadata": {},
     "output_type": "execute_result"
    }
   ],
   "source": [
    "# Rewrite in different solution\n",
    "# Find rows have 'Dog' breed in shelter\n",
    "dog_data=input_data_up[input_data_up['animal_type']=='Dog']\n",
    "# Find the top 5 'Dog' color in shelter\n",
    "top_5_color=dog_data.groupby('color')['animal_id'].count().sort_values(ascending=False).head(5)\n",
    "# Create a list of values from top_5_colorcolor other way:\n",
    "list_values_top5=[]\n",
    "for i in range(0, top_5_color.shape[0]):\n",
    "    value_top=top_5_color.iloc[i]\n",
    "    list_values_top5.append(value_top)\n",
    "\n",
    "\n",
    "# List values find the number of top 5 dogs in shelter had record in breedDog_outcomes\n",
    "#Step 1: filter data by type='Dog' and 'Adoption'\n",
    "dog_adoption=output_data[(output_data['animal_type']=='Dog')& (output_data['outcome_type']=='Adoption')]\n",
    "#Step 2: Group by color:\n",
    "dog_adoption_color=dog_adoption['color'].value_counts()\n",
    "#Step 3: Loop over index but index of color of adoption is the same color as top5\n",
    "list_adoption_top5=[]\n",
    "for values in top_5_color.index:\n",
    "    data_row = dog_adoption_color[dog_adoption_color.index == values]\n",
    "    value_row=data_row.loc[values]\n",
    "    list_adoption_top5.append(value_row)\n",
    "print(list_adoption_top5)\n",
    "print(list_values_top5)\n",
    "top_5_list=top_5_color.index.tolist()\n",
    "# Link all lists together:\n",
    "top5_color_df=pd.DataFrame(list(zip(top_5_list,list_values_top5,list_adoption_top5)), columns=['color','total animals','adoption number'])\n",
    "top5_color_df['adoption rate']=round(top5_color_df['adoption number']*100/top5_color_df['total animals'],2).astype(str)+'%'\n",
    "top5_color_df"
   ]
  },
  {
   "cell_type": "code",
   "execution_count": 27,
   "id": "51935417",
   "metadata": {},
   "outputs": [
    {
     "name": "stdout",
     "output_type": "stream",
     "text": [
      "         color  total_adoption  total_animals adoption_rate\n",
      "0  Black/White            2155           4438        48.56%\n",
      "1    Tan/White             961           2091        45.96%\n",
      "2        Black             941           2226        42.27%\n",
      "3  Brown/White             924           2093        44.15%\n",
      "4        White             795           2082        38.18%\n"
     ]
    }
   ],
   "source": [
    "\n",
    "top_5_color_list=top_5_color.index\n",
    "top_5_adoption=dog_adoption_color[dog_adoption_color.index.isin(top_5_color_list)]\n",
    "\n",
    "# Step 1: Convert Series to DataFrames\n",
    "df_top_5_color = pd.DataFrame(top_5_color)  # This will create a DataFrame with one column\n",
    "df_top_5_color.columns = ['total_animals']  # Renaming the column for clarity\n",
    "df_top_5_color.reset_index(inplace=True) # Add color as a new column\n",
    "\n",
    "# Step 2: Data Frame of number of adoptions\n",
    "df_top_5_adoption = pd.DataFrame(top_5_adoption)  # This will create a DataFrame with one column\n",
    "df_top_5_adoption.columns = ['total_adoption']  # Renaming the column for clarity\n",
    "df_top_5_adoption.reset_index(inplace=True) \n",
    "# Step 3: Merge the DataFrames on 'color'\n",
    "merged_data=pd.merge(df_top_5_adoption,df_top_5_color, how='inner', on='color')\n",
    "# Perform the division to calculate the adoption rate\n",
    "merged_data['adoption_rate'] = round((merged_data['total_adoption'] * 100 / merged_data['total_animals']),2)\n",
    "\n",
    "# Add '%' symbol to the adoption rate\n",
    "merged_data['adoption_rate'] = merged_data['adoption_rate'].astype(str) + '%'\n",
    "\n",
    "# Display the updated merged data\n",
    "print(merged_data)"
   ]
  },
  {
   "cell_type": "markdown",
   "id": "99bab016",
   "metadata": {},
   "source": [
    "#### Question number 9\n",
    "What are the adoption rates for the following age groups?\n",
    "- baby: 4 months and less\n",
    "- young: 5 months - 2 years\n",
    "- adult: 3 years - 10 years\n",
    "- senior: 11+"
   ]
  },
  {
   "cell_type": "code",
   "execution_count": 28,
   "id": "94e4803f",
   "metadata": {},
   "outputs": [
    {
     "name": "stdout",
     "output_type": "stream",
     "text": [
      "Baby rate:  39.647 %\n",
      "Young rate:  41.772 %\n",
      "Aldult rate:  17.249 %\n",
      "Senior rate:  1.332 %\n"
     ]
    }
   ],
   "source": [
    "adoption_age_group=output_data[output_data['outcome_type']=='Adoption']\n",
    "#ignore entries having na values\n",
    "adoption_age_group=adoption_age_group[adoption_age_group['age_upon_outcome'].notna()]\n",
    "#Find data have month\n",
    "adoption_month=adoption_age_group[adoption_age_group['age_upon_outcome'].str.contains('month')]\n",
    "#Find data have year\n",
    "adoption_year=adoption_age_group[adoption_age_group['age_upon_outcome'].str.contains('year')]\n",
    "\n",
    "Lower_1_month =adoption_age_group[adoption_age_group['age_upon_outcome'].str.contains('week|day')]\n",
    "\n",
    "#### Filter the data between baby, young, aldult and senior animal by index number.\n",
    "\n",
    "list_Baby_index = []\n",
    "list_Young_index = []\n",
    "list_Aldult_index = []\n",
    "list_Senior_index = []\n",
    "\n",
    "##Find data in age_upon_months datafame\n",
    "# Between 1 month and 1 year\n",
    "list_Baby_index = []  # Initialize the list\n",
    "\n",
    "for i in range(adoption_month.shape[0]):  # Loop through all rows\n",
    "    value_i_list = adoption_month['age_upon_outcome'].iloc[i].split(' ')  # Split the string by space\n",
    "    extracted_month = int(value_i_list[0])  # Convert to integer\n",
    "    \n",
    "    if extracted_month < 5:  # Check if the extracted month is less than 5\n",
    "        list_Baby_index.append(adoption_month.age_upon_outcome.index[i])  # Append the index i to the list\n",
    "\n",
    "    else: \n",
    "         list_Young_index.append(adoption_month.age_upon_outcome.index[i]) \n",
    "for x in range(adoption_year.shape[0]):  # Loop through all rows\n",
    "    value_x_list = adoption_year['age_upon_outcome'].iloc[x].split(' ')  # Split the string by space\n",
    "    extracted_year = int(value_x_list[0])  # Convert to integer\n",
    "    \n",
    "    if extracted_year <=2:  \n",
    "        list_Young_index.append(adoption_month.age_upon_outcome.index[x])\n",
    "\n",
    "    elif extracted_year<=10: \n",
    "         list_Aldult_index .append(adoption_month.age_upon_outcome.index[x]) \n",
    "    else: list_Senior_index.append(adoption_month.age_upon_outcome.index[x]) \n",
    "    \n",
    "print('Baby rate: ',round(100 / adoption_age_group.shape[0] * int(len(list_Baby_index) + Lower_1_month.shape[0]),3), '%')\n",
    "print('Young rate: ',round(100 / adoption_age_group.shape[0] * int(len(list_Young_index)),3), '%')\n",
    "print('Aldult rate: ',round(100 / adoption_age_group.shape[0] * int(len(list_Aldult_index)),3), '%')\n",
    "print('Senior rate: ',round(100 / adoption_age_group.shape[0] * int(len(list_Senior_index)),3), '%')   \n",
    "\n"
   ]
  },
  {
   "cell_type": "markdown",
   "id": "dbade4df",
   "metadata": {},
   "source": [
    "#### Question number 10:\n",
    "If spay/neuter for a dog costs $100 and a spay/neuter for a cat costs $50,\n",
    "how much did the shelter spend in 2015 on these procedures?"
   ]
  },
  {
   "cell_type": "code",
   "execution_count": 29,
   "id": "06e059f0",
   "metadata": {},
   "outputs": [
    {
     "name": "stdout",
     "output_type": "stream",
     "text": [
      "Total Sum: 513850\n"
     ]
    }
   ],
   "source": [
    "intersection_data_2015= intersection_data[(intersection_data['monthyear'] > \"2015-01-01\") & (intersection_data['monthyear']< \"2015-12-31\")]\n",
    "intersection_data_2015_type=pd.merge(intersection_data_2015, output_data, how='inner', on='animal_id')\n",
    "intersection_data_2015_type.drop_duplicates()\n",
    "\n",
    "a=intersection_data_2015_type.groupby('animal_type')['animal_id'].count()\n",
    "# Filter data for 2015, 6072\n",
    "intersection_data_2015 = intersection_data[(intersection_data['monthyear'] > \"2015-01-01\") & (intersection_data['monthyear'] < \"2015-12-31\")]\n",
    "\n",
    "# Merge with output_data on 'animal_id'\n",
    "intersection_data_2015_type = pd.merge(intersection_data_2015, output_data, how='inner', on='animal_id')\n",
    "\n",
    "# Group by 'animal_type' and count 'animal_id'\n",
    "a = intersection_data_2015_type.groupby('animal_type')['animal_id'].count()\n",
    "\n",
    "total_sum = 0\n",
    "for x,y in a.items():\n",
    "    if x == 'Cat':\n",
    "        total_sum += y * 50  # Add 50 for each 'Cat'\n",
    "    elif x == 'Dog':\n",
    "        total_sum += y * 100  # Add 100 for each 'Dog'\n",
    "\n",
    "print(\"Total Sum:\", total_sum)"
   ]
  }
 ],
 "metadata": {
  "kernelspec": {
   "display_name": "Python 3",
   "language": "python",
   "name": "python3"
  },
  "language_info": {
   "codemirror_mode": {
    "name": "ipython",
    "version": 3
   },
   "file_extension": ".py",
   "mimetype": "text/x-python",
   "name": "python",
   "nbconvert_exporter": "python",
   "pygments_lexer": "ipython3",
   "version": "3.13.1"
  }
 },
 "nbformat": 4,
 "nbformat_minor": 5
}
